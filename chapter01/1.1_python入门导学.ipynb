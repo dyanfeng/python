{
 "cells": [
  {
   "cell_type": "markdown",
   "metadata": {},
   "source": [
    "## 1.1.1 Python特点\n",
    "1. 一门编程语言，他是众多编程语言中的一种\n",
    "2. 语法简洁优雅，容易阅读\n",
    "3. 跨平台，可以运行在Windows，Linux，macOS等平台\n",
    "4. 易于学习\n",
    "5. 强大且丰富的标准库与第三方库\n",
    "6. 面向对象\n"
   ]
  },
  {
   "cell_type": "markdown",
   "metadata": {},
   "source": [
    "## 1.1.2 Python我们应该注意点\n",
    "1. 简洁，灵活，优雅，哲学\n",
    "2. 易于上手，难于精通\n",
    "3. 既有动态脚本的特性，又有面向对象的特征，非常有自己的特点"
   ]
  },
  {
   "cell_type": "code",
   "execution_count": 11,
   "metadata": {
    "collapsed": false
   },
   "outputs": [],
   "source": [
    "import this"
   ]
  },
  {
   "cell_type": "markdown",
   "metadata": {},
   "source": [
    "## 1.1.3 Python的缺点\n",
    "1. 速度较慢  \n",
    "  运行效率与开发效率，鱼与熊掌不可兼得\n"
   ]
  },
  {
   "cell_type": "markdown",
   "metadata": {},
   "source": [
    "## 1.1.4 经典误区\n",
    "世界上不是只有web，还有很多问题需要编程来解决，不要把思维局限在web上，这只是编程的一个应用方向。  "
   ]
  },
  {
   "cell_type": "markdown",
   "metadata": {},
   "source": [
    "## 1.1.5 Python能做什么？  \n",
    "1. 爬虫\n",
    "2. 大数据和数据分析\n",
    "3. 自动化运维和自动化测试\n",
    "4. web开发（Flask,Django）\n",
    "5. 机器学习：TensorFlow  \n",
    "6. 胶水语言：混合其他语言    \n",
    "  能够把用其他语言制作的各种模块连接起来  "
   ]
  },
  {
   "cell_type": "markdown",
   "metadata": {},
   "source": [
    "## 1.1.6 要学什么？  \n",
    "1. 基础语法    \n",
    "  熟练使用基础语法，才能灵活运用语言，写出高效，优美，简洁的代码  \n",
    "2. Pythonic    \n",
    "  语法特别，比如，将两个值进行交换  \n",
    "  灵活，语言特点。\n",
    "3. 高性能和优化  \n",
    "  同样的功能，可以有数个乃至数十个写法，但每种写法的性能和美观程度是不一致的。选择性能最高又易于理解的写法才是正确的。  \n",
    "4. 数据结构  \n",
    "  用Python来实现一些常见的数据结构。  \n",
    "  什么才是扎实的编程功底，数据结构才是基础    \n",
    "5. 语言的重要性    \n",
    "  框架太多，技术太多   \n",
    "  回归语言的本质，享受语言本身的纯粹之美  "
   ]
  }
 ],
 "metadata": {
  "kernelspec": {
   "display_name": "Python [default]",
   "language": "python",
   "name": "python3"
  },
  "language_info": {
   "codemirror_mode": {
    "name": "ipython",
    "version": 3
   },
   "file_extension": ".py",
   "mimetype": "text/x-python",
   "name": "python",
   "nbconvert_exporter": "python",
   "pygments_lexer": "ipython3",
   "version": "3.5.2"
  }
 },
 "nbformat": 4,
 "nbformat_minor": 1
}
