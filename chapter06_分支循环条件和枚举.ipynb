{
 "cells": [
  {
   "cell_type": "markdown",
   "metadata": {},
   "source": [
    "### 表达式\n",
    "表达式（Expression）是由运算符（operator）和操作数（operand）所构成的序列。  \n",
    "**易错点，逻辑运算符中，优先级顺序 not 大于 and 大于 or **  \n",
    "为了代码可读性，可以加入括号，增加代码的可读性  "
   ]
  },
  {
   "cell_type": "code",
   "execution_count": 1,
   "metadata": {
    "collapsed": false
   },
   "outputs": [
    {
     "name": "stdout",
     "output_type": "stream",
     "text": [
      "7\n"
     ]
    }
   ],
   "source": [
    "a = 1\n",
    "b = 2\n",
    "c = 3\n",
    "print(a + b * c)"
   ]
  },
  {
   "cell_type": "code",
   "execution_count": 4,
   "metadata": {
    "collapsed": false
   },
   "outputs": [
    {
     "name": "stdout",
     "output_type": "stream",
     "text": [
      "1\n"
     ]
    }
   ],
   "source": [
    "print(a or b and c) # 该表达式先计算 b and c 结果为 1 and 3 ，结果3，a or 3, 结果2"
   ]
  },
  {
   "cell_type": "markdown",
   "metadata": {},
   "source": [
    "## 条件控制"
   ]
  },
  {
   "cell_type": "code",
   "execution_count": 8,
   "metadata": {
    "collapsed": false
   },
   "outputs": [
    {
     "name": "stdout",
     "output_type": "stream",
     "text": [
      "go to left\n"
     ]
    }
   ],
   "source": [
    "mood = True\n",
    "if mood :\n",
    "    print(\"go to left\")\n",
    "else : \n",
    "    print('go to right')"
   ]
  },
  {
   "cell_type": "code",
   "execution_count": 10,
   "metadata": {
    "collapsed": false
   },
   "outputs": [
    {
     "name": "stdout",
     "output_type": "stream",
     "text": [
      "go to right\n"
     ]
    }
   ],
   "source": [
    "a = 1\n",
    "b = 2\n",
    "c = 2\n",
    "d = []\n",
    "if d: # d 为空，可以理解为 false\n",
    "    print(\"go to left\")\n",
    "else:\n",
    "    print(\"go to right\")"
   ]
  },
  {
   "cell_type": "code",
   "execution_count": 18,
   "metadata": {
    "collapsed": false
   },
   "outputs": [
    {
     "name": "stdout",
     "output_type": "stream",
     "text": [
      "please input account : \n",
      "qiyue\n",
      "please input password : \n",
      "123456\n",
      "success\n"
     ]
    }
   ],
   "source": [
    "'''\n",
    "    一段小程序\n",
    "'''\n",
    "ACCOUNT = \"qiyue\"\n",
    "PASSWORD = \"123456\"\n",
    "\n",
    "# constant 常量，大写，但Python中的常量可变，其实也是变量\n",
    "\n",
    "print(\"please input account : \")\n",
    "USER_ACCOUNT = input()\n",
    "print(\"please input password : \")\n",
    "USER_PASSWORD = input()\n",
    "\n",
    "if USER_ACCOUNT == ACCOUNT and USER_PASSWORD == PASSWORD:\n",
    "    print(\"success\")\n",
    "else: \n",
    "    print(\"fail\")\n"
   ]
  },
  {
   "cell_type": "code",
   "execution_count": 19,
   "metadata": {
    "collapsed": false
   },
   "outputs": [
    {
     "name": "stdout",
     "output_type": "stream",
     "text": [
      "test\n"
     ]
    }
   ],
   "source": [
    "if True:\n",
    "    print(\"test\")\n",
    "    pass\n",
    "if False:\n",
    "    pass  # 占位语句，空语句\n"
   ]
  },
  {
   "cell_type": "code",
   "execution_count": 22,
   "metadata": {
    "collapsed": false
   },
   "outputs": [
    {
     "name": "stdout",
     "output_type": "stream",
     "text": [
      "1\n",
      "apple\n"
     ]
    }
   ],
   "source": [
    "a = input()\n",
    "# print(type(a))\n",
    "# print(\"a is \" + a)\n",
    "\n",
    "# 控制台输入的是字符串，字符串不可能等于数字，所以要将字符串转成数字型\n",
    "a = int(a)\n",
    "\n",
    "if a == 1:\n",
    "    print(\"apple\")\n",
    "elif a == 2:\n",
    "    print(\"orange\")\n",
    "elif a == 3:\n",
    "    print(\"banana\")\n",
    "else:\n",
    "    print(\"shopping\")"
   ]
  }
 ],
 "metadata": {
  "anaconda-cloud": {},
  "kernelspec": {
   "display_name": "Python [default]",
   "language": "python",
   "name": "python3"
  },
  "language_info": {
   "codemirror_mode": {
    "name": "ipython",
    "version": 3
   },
   "file_extension": ".py",
   "mimetype": "text/x-python",
   "name": "python",
   "nbconvert_exporter": "python",
   "pygments_lexer": "ipython3",
   "version": "3.5.2"
  }
 },
 "nbformat": 4,
 "nbformat_minor": 1
}
